{
 "cells": [
  {
   "cell_type": "code",
   "execution_count": 1,
   "metadata": {},
   "outputs": [],
   "source": [
    "import pandas as pd\n",
    "import requests\n",
    "import json"
   ]
  },
  {
   "cell_type": "code",
   "execution_count": 2,
   "metadata": {},
   "outputs": [],
   "source": [
    "TRAIN_DATA_URL = \"https://raw.githubusercontent.com/PolyAI-LDN/task-specific-datasets/master/banking_data/train.csv\"\n",
    "TEST_DATA_URL = \"https://raw.githubusercontent.com/PolyAI-LDN/task-specific-datasets/master/banking_data/test.csv\"\n",
    "LABELS_URL = \"https://raw.githubusercontent.com/PolyAI-LDN/task-specific-datasets/master/banking_data/categories.json\""
   ]
  },
  {
   "cell_type": "code",
   "execution_count": 3,
   "metadata": {},
   "outputs": [],
   "source": [
    "response = requests.get(LABELS_URL)"
   ]
  },
  {
   "cell_type": "code",
   "execution_count": 5,
   "metadata": {},
   "outputs": [],
   "source": [
    "if response.status_code == 200:\n",
    "    data = json.loads(response.text)\n",
    "    categories = list(data)\n",
    "    # do something with my_list\n",
    "else:\n",
    "    print(f'Error downloading data. Status code: {response.status_code}')"
   ]
  },
  {
   "cell_type": "code",
   "execution_count": 6,
   "metadata": {},
   "outputs": [],
   "source": [
    "train_df = pd.read_csv(TRAIN_DATA_URL)\n",
    "test_df = pd.read_csv(TEST_DATA_URL)"
   ]
  },
  {
   "cell_type": "code",
   "execution_count": 7,
   "metadata": {},
   "outputs": [
    {
     "data": {
      "text/html": "<div>\n<style scoped>\n    .dataframe tbody tr th:only-of-type {\n        vertical-align: middle;\n    }\n\n    .dataframe tbody tr th {\n        vertical-align: top;\n    }\n\n    .dataframe thead th {\n        text-align: right;\n    }\n</style>\n<table border=\"1\" class=\"dataframe\">\n  <thead>\n    <tr style=\"text-align: right;\">\n      <th></th>\n      <th>text</th>\n      <th>category</th>\n    </tr>\n  </thead>\n  <tbody>\n    <tr>\n      <th>0</th>\n      <td>I am still waiting on my card?</td>\n      <td>card_arrival</td>\n    </tr>\n    <tr>\n      <th>1</th>\n      <td>What can I do if my card still hasn't arrived ...</td>\n      <td>card_arrival</td>\n    </tr>\n    <tr>\n      <th>2</th>\n      <td>I have been waiting over a week. Is the card s...</td>\n      <td>card_arrival</td>\n    </tr>\n    <tr>\n      <th>3</th>\n      <td>Can I track my card while it is in the process...</td>\n      <td>card_arrival</td>\n    </tr>\n    <tr>\n      <th>4</th>\n      <td>How do I know if I will get my card, or if it ...</td>\n      <td>card_arrival</td>\n    </tr>\n    <tr>\n      <th>...</th>\n      <td>...</td>\n      <td>...</td>\n    </tr>\n    <tr>\n      <th>9998</th>\n      <td>You provide support in what countries?</td>\n      <td>country_support</td>\n    </tr>\n    <tr>\n      <th>9999</th>\n      <td>What countries are you supporting?</td>\n      <td>country_support</td>\n    </tr>\n    <tr>\n      <th>10000</th>\n      <td>What countries are getting support?</td>\n      <td>country_support</td>\n    </tr>\n    <tr>\n      <th>10001</th>\n      <td>Are cards available in the EU?</td>\n      <td>country_support</td>\n    </tr>\n    <tr>\n      <th>10002</th>\n      <td>Which countries are represented?</td>\n      <td>country_support</td>\n    </tr>\n  </tbody>\n</table>\n<p>10003 rows × 2 columns</p>\n</div>",
      "text/plain": "                                                    text         category\n0                         I am still waiting on my card?     card_arrival\n1      What can I do if my card still hasn't arrived ...     card_arrival\n2      I have been waiting over a week. Is the card s...     card_arrival\n3      Can I track my card while it is in the process...     card_arrival\n4      How do I know if I will get my card, or if it ...     card_arrival\n...                                                  ...              ...\n9998              You provide support in what countries?  country_support\n9999                  What countries are you supporting?  country_support\n10000                What countries are getting support?  country_support\n10001                     Are cards available in the EU?  country_support\n10002                   Which countries are represented?  country_support\n\n[10003 rows x 2 columns]"
     },
     "execution_count": 7,
     "metadata": {},
     "output_type": "execute_result"
    }
   ],
   "source": [
    "train_df"
   ]
  },
  {
   "cell_type": "code",
   "execution_count": 8,
   "metadata": {},
   "outputs": [],
   "source": [
    "train_df['source'] = 'train'\n",
    "test_df['source'] = 'test'"
   ]
  },
  {
   "cell_type": "code",
   "execution_count": 9,
   "metadata": {},
   "outputs": [],
   "source": [
    "# concatenate the dataframes\n",
    "combined_df = pd.concat([train_df, test_df])"
   ]
  },
  {
   "cell_type": "code",
   "execution_count": 10,
   "metadata": {},
   "outputs": [
    {
     "data": {
      "text/html": "<div>\n<style scoped>\n    .dataframe tbody tr th:only-of-type {\n        vertical-align: middle;\n    }\n\n    .dataframe tbody tr th {\n        vertical-align: top;\n    }\n\n    .dataframe thead th {\n        text-align: right;\n    }\n</style>\n<table border=\"1\" class=\"dataframe\">\n  <thead>\n    <tr style=\"text-align: right;\">\n      <th></th>\n      <th>text</th>\n      <th>category</th>\n      <th>source</th>\n    </tr>\n  </thead>\n  <tbody>\n    <tr>\n      <th>0</th>\n      <td>I am still waiting on my card?</td>\n      <td>card_arrival</td>\n      <td>train</td>\n    </tr>\n    <tr>\n      <th>1</th>\n      <td>What can I do if my card still hasn't arrived ...</td>\n      <td>card_arrival</td>\n      <td>train</td>\n    </tr>\n    <tr>\n      <th>2</th>\n      <td>I have been waiting over a week. Is the card s...</td>\n      <td>card_arrival</td>\n      <td>train</td>\n    </tr>\n    <tr>\n      <th>3</th>\n      <td>Can I track my card while it is in the process...</td>\n      <td>card_arrival</td>\n      <td>train</td>\n    </tr>\n    <tr>\n      <th>4</th>\n      <td>How do I know if I will get my card, or if it ...</td>\n      <td>card_arrival</td>\n      <td>train</td>\n    </tr>\n    <tr>\n      <th>...</th>\n      <td>...</td>\n      <td>...</td>\n      <td>...</td>\n    </tr>\n    <tr>\n      <th>3075</th>\n      <td>If i'm not in the UK, can I still get a card?</td>\n      <td>country_support</td>\n      <td>test</td>\n    </tr>\n    <tr>\n      <th>3076</th>\n      <td>How many countries do you support?</td>\n      <td>country_support</td>\n      <td>test</td>\n    </tr>\n    <tr>\n      <th>3077</th>\n      <td>What countries do you do business in?</td>\n      <td>country_support</td>\n      <td>test</td>\n    </tr>\n    <tr>\n      <th>3078</th>\n      <td>What are the countries you operate in.</td>\n      <td>country_support</td>\n      <td>test</td>\n    </tr>\n    <tr>\n      <th>3079</th>\n      <td>Can the card be mailed and used in Europe?</td>\n      <td>country_support</td>\n      <td>test</td>\n    </tr>\n  </tbody>\n</table>\n<p>13083 rows × 3 columns</p>\n</div>",
      "text/plain": "                                                   text         category   \n0                        I am still waiting on my card?     card_arrival  \\\n1     What can I do if my card still hasn't arrived ...     card_arrival   \n2     I have been waiting over a week. Is the card s...     card_arrival   \n3     Can I track my card while it is in the process...     card_arrival   \n4     How do I know if I will get my card, or if it ...     card_arrival   \n...                                                 ...              ...   \n3075      If i'm not in the UK, can I still get a card?  country_support   \n3076                 How many countries do you support?  country_support   \n3077              What countries do you do business in?  country_support   \n3078             What are the countries you operate in.  country_support   \n3079         Can the card be mailed and used in Europe?  country_support   \n\n     source  \n0     train  \n1     train  \n2     train  \n3     train  \n4     train  \n...     ...  \n3075   test  \n3076   test  \n3077   test  \n3078   test  \n3079   test  \n\n[13083 rows x 3 columns]"
     },
     "execution_count": 10,
     "metadata": {},
     "output_type": "execute_result"
    }
   ],
   "source": [
    "combined_df"
   ]
  },
  {
   "cell_type": "markdown",
   "metadata": {},
   "source": [
    "# Upload Data to Snowflake"
   ]
  },
  {
   "cell_type": "code",
   "execution_count": 21,
   "metadata": {},
   "outputs": [],
   "source": [
    "import snowflake.connector\n",
    "from dotenv import load_dotenv\n",
    "import os"
   ]
  },
  {
   "cell_type": "code",
   "execution_count": 13,
   "metadata": {},
   "outputs": [
    {
     "data": {
      "text/plain": "True"
     },
     "execution_count": 13,
     "metadata": {},
     "output_type": "execute_result"
    }
   ],
   "source": [
    "load_dotenv()"
   ]
  },
  {
   "cell_type": "code",
   "execution_count": 14,
   "metadata": {},
   "outputs": [
    {
     "name": "stdout",
     "output_type": "stream",
     "text": [
      "ylijtly-jsb79052\n"
     ]
    }
   ],
   "source": [
    "print(os.environ[\"SF_ACCOUNT\"])"
   ]
  },
  {
   "cell_type": "code",
   "execution_count": 15,
   "metadata": {},
   "outputs": [],
   "source": [
    "conn = snowflake.connector.connect(\n",
    "    user=os.environ[\"SF_USER\"],\n",
    "    password=os.environ[\"SF_PWD\"],\n",
    "    account=os.environ[\"SF_ACCOUNT\"],\n",
    "    database=os.environ[\"SF_DB\"],\n",
    "    schema=os.environ[\"SF_SCHEMA\"]\n",
    ")\n"
   ]
  },
  {
   "cell_type": "code",
   "execution_count": 16,
   "metadata": {},
   "outputs": [],
   "source": [
    "# create a cursor object\n",
    "cursor = conn.cursor()"
   ]
  },
  {
   "cell_type": "code",
   "execution_count": 17,
   "metadata": {},
   "outputs": [
    {
     "data": {
      "text/plain": "<snowflake.connector.cursor.SnowflakeCursor at 0x12a45c880>"
     },
     "execution_count": 17,
     "metadata": {},
     "output_type": "execute_result"
    }
   ],
   "source": [
    "# create a table in Snowflake to store the data\n",
    "create_table_query = 'CREATE TABLE intent_dataset (text STRING, category STRING, source STRING);'\n",
    "cursor.execute(create_table_query)"
   ]
  },
  {
   "cell_type": "code",
   "execution_count": 18,
   "metadata": {},
   "outputs": [
    {
     "data": {
      "text/plain": "<snowflake.connector.cursor.SnowflakeCursor at 0x12a45c880>"
     },
     "execution_count": 18,
     "metadata": {},
     "output_type": "execute_result"
    }
   ],
   "source": [
    "# insert the data from the Pandas dataframe into the Snowflake table\n",
    "cursor.executemany('INSERT INTO intent_dataset (text, category, source) VALUES (%s, %s, %s)', combined_df.values.tolist())"
   ]
  },
  {
   "cell_type": "code",
   "execution_count": 19,
   "metadata": {},
   "outputs": [],
   "source": [
    "# commit the changes\n",
    "conn.commit()"
   ]
  },
  {
   "cell_type": "code",
   "execution_count": 20,
   "metadata": {},
   "outputs": [],
   "source": [
    "# close the cursor and connection\n",
    "cursor.close()\n",
    "conn.close()"
   ]
  }
 ],
 "metadata": {
  "kernelspec": {
   "display_name": "Python 3.10.10 64-bit ('sagemakerdeploy': conda)",
   "name": "python31010jvsc74a57bd0b184ee938e15fb1a29dec67e00cec5eb54a9efc4cf4a84aaaed928b9d8a5980c"
  },
  "language_info": {
   "codemirror_mode": {
    "name": "ipython",
    "version": 3
   },
   "file_extension": ".py",
   "mimetype": "text/x-python",
   "name": "python",
   "nbconvert_exporter": "python",
   "pygments_lexer": "ipython3",
   "version": "3.10.10"
  },
  "orig_nbformat": 2
 },
 "nbformat": 4,
 "nbformat_minor": 2
}